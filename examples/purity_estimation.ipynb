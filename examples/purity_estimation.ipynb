{
 "cells": [
  {
   "cell_type": "markdown",
   "metadata": {},
   "source": [
    "# Purity Estimation Experiment\n",
    "\n",
    "This estimates the purity of a quantum state using the Unitary-2 design identity as described in arXiv:1812.02624\n",
    "\n",
    "This generates the circuits for appending a state preparation circuit with the tensor product of 1-qubit Cliffords before measurement and analysis consists of averaging over products of outcome probabilities to estimate $Tr[\\rho^2]$ as\n",
    "$$Tr[\\rho^2 = 2^N \\sum_{i,j}\\sum_{C} (-2)^{w_{i,j}} p_i(C) p_j(C)$$\n",
    "\n",
    "where $w_{i,j}$ is the Hamming weight distance between two bitstrings i and j, and $p_i(C)$ is the measurement outcome probability $p_i(C) = \\langle i | C\\rho C^\\dagger | i \\rangle$, where $C = \\bigotimes_{i=1}^N C_i$ is a tensor product of 1-qubit Cliffords.\n",
    "\n",
    "Note that whilte there are 24 1-qubit Cliffords, however there are only 6 equivalence classes of cliffords that need to be sampled from since the 4 Cliffords in each class generate the same measurement outcomes. This means there are a total of $6^N$ measurement circuits to sample from for an $N$-qubit measurement.\n",
    "\n",
    "For our experiment if `num_samples = None` all $6^N$ measurement circuits are generated and run. If `num_samples` < $6^N$ we sample without replacement that number of measurement circuits to execute."
   ]
  },
  {
   "cell_type": "code",
   "execution_count": null,
   "metadata": {},
   "outputs": [],
   "source": [
    "import qiskit\n",
    "import qiskit.quantum_info as qi\n",
    "from qiskit import IBMQ\n",
    "from qiskit.providers.aer import AerSimulator\n",
    "from qiskit.test import mock\n",
    "from qiskit.circuit.library import QuantumVolume\n",
    "\n",
    "# Import purity estimation experiment from qiskit-experiments dev branch\n",
    "from qiskit_experiments import PurityEstimation"
   ]
  },
  {
   "cell_type": "markdown",
   "metadata": {},
   "source": [
    "# Example: Purity of QV circuit\n",
    "\n",
    "We now demonstrate running the experiment for to compute the purity of a Quantum Volume circuit."
   ]
  },
  {
   "cell_type": "code",
   "execution_count": 2,
   "metadata": {},
   "outputs": [],
   "source": [
    "# Load provider and get backend\n",
    "IBMQ.load_account()\n",
    "provider = IBMQ.get_provider(group='deployed')\n",
    "backend = provider.get_backend('ibmq_mumbai')\n",
    "\n",
    "# Create simulator backend of device\n",
    "sim = AerSimulator.from_backend(backend)"
   ]
  },
  {
   "cell_type": "code",
   "execution_count": 3,
   "metadata": {},
   "outputs": [],
   "source": [
    "# Make QV circuit\n",
    "# Run only depth-1 because otherwise fidelity is bad\n",
    "prep_circ = QuantumVolume(5, 1, seed=101)\n",
    "\n",
    "# Transpile with truncated coupling map\n",
    "coupling_map = [[0, 1], [1, 0], [1, 2], [1, 4], [2, 1], [2, 3], [3, 2]]\n",
    "prep_circ = qiskit.transpile(\n",
    "    prep_circ, backend, coupling_map=coupling_map, optimization_level=3)"
   ]
  },
  {
   "cell_type": "markdown",
   "metadata": {},
   "source": [
    "## Simulation \n",
    "\n",
    "### Direct Density Matrix Calculation\n",
    "\n",
    "First we directly simulate the noisy density matrix so we can compute the target purity our protocol should be estimating. This effectively simulates gate errors only, no measurement errors are included."
   ]
  },
  {
   "cell_type": "code",
   "execution_count": 4,
   "metadata": {},
   "outputs": [
    {
     "name": "stdout",
     "output_type": "stream",
     "text": [
      "Target Purity = 0.9261\n"
     ]
    }
   ],
   "source": [
    "# Directly simulate noisy circuit to get the \"true\" noisy target density matrix\n",
    "qc = prep_circ.copy()\n",
    "qc.save_density_matrix()\n",
    "result = sim.run(qc).result()\n",
    "rho_target = result.data(0)['density_matrix']\n",
    "\n",
    "# Calculate purity\n",
    "purity_target = qi.DensityMatrix(rho_target).purity().real\n",
    "print('Target Purity = {:.4f}'.format(purity_target))"
   ]
  },
  {
   "cell_type": "markdown",
   "metadata": {},
   "source": [
    "### Purity Experiment Estimation\n",
    "\n",
    "Now we run a simulation of the full experimetn drawing 500 samples from the full 6^5 = 7776 possible random Cliffords. This includes simulation of readout error (we probably need to look into applying readout error mitigation)"
   ]
  },
  {
   "cell_type": "code",
   "execution_count": 5,
   "metadata": {},
   "outputs": [],
   "source": [
    "# Experiment parameters\n",
    "num_samples = 200\n",
    "seed = 1234\n",
    "shots = 1000"
   ]
  },
  {
   "cell_type": "code",
   "execution_count": 8,
   "metadata": {},
   "outputs": [
    {
     "name": "stdout",
     "output_type": "stream",
     "text": [
      "Purity (Simulated) = 0.7436\n"
     ]
    }
   ],
   "source": [
    "exp_sim = PurityEstimation(prep_circ, num_samples=num_samples, seed=seed)\n",
    "expdata_sim = exp_sim.run(sim, shots=shots)\n",
    "purity_exp_sim = expdata_sim.analysis_result(-1)['purity']\n",
    "print('Purity (Simulated) = {:.4f}'.format(purity_exp_sim))"
   ]
  },
  {
   "cell_type": "markdown",
   "metadata": {},
   "source": [
    "Run again disabling readout error (ie test protocol with only gate error)"
   ]
  },
  {
   "cell_type": "code",
   "execution_count": 9,
   "metadata": {},
   "outputs": [
    {
     "name": "stdout",
     "output_type": "stream",
     "text": [
      "Purity (Simulated, No readout error) = 0.7644\n"
     ]
    }
   ],
   "source": [
    "# Create simulator with gate-only device noise model (no measuerment readout error)\n",
    "sim_noro = AerSimulator.from_backend(backend, readout_error=False)\n",
    "\n",
    "exp_sim_noro = PurityEstimation(prep_circ, num_samples=num_samples, seed=seed)\n",
    "expdata_sim_noro = exp_sim.run(sim_noro, shots=shots)\n",
    "purity_exp_sim_noro = expdata_sim_noro.analysis_result(-1)['purity']\n",
    "print('Purity (Simulated, No readout error) = {:.4f}'.format(purity_exp_sim_noro))"
   ]
  },
  {
   "cell_type": "markdown",
   "metadata": {},
   "source": [
    "## Actual Device\n",
    "\n",
    "Now lets run on the actual device. Note the experiment class API isn't really suitable at the moment for running on devices (since it blocks until the job is finished). It is better to run manually as follows."
   ]
  },
  {
   "cell_type": "code",
   "execution_count": 6,
   "metadata": {},
   "outputs": [
    {
     "name": "stdout",
     "output_type": "stream",
     "text": [
      "609183d2e60483510f734632\n"
     ]
    }
   ],
   "source": [
    "# Generate circuits\n",
    "exp_dev = PurityEstimation(prep_circ, num_samples=num_samples, seed=seed)\n",
    "circuits = exp_dev.transpiled_circuits(backend)\n",
    "job = backend.run(circuits, shots=shots)\n",
    "print(job.job_id())"
   ]
  },
  {
   "cell_type": "code",
   "execution_count": 11,
   "metadata": {},
   "outputs": [
    {
     "data": {
      "text/plain": [
       "<JobStatus.DONE: 'job has successfully run'>"
      ]
     },
     "execution_count": 11,
     "metadata": {},
     "output_type": "execute_result"
    }
   ],
   "source": [
    "# Monitor job\n",
    "job.status()"
   ]
  },
  {
   "cell_type": "code",
   "execution_count": 12,
   "metadata": {},
   "outputs": [
    {
     "name": "stdout",
     "output_type": "stream",
     "text": [
      "Purity (Experiment) = 0.7019\n"
     ]
    }
   ],
   "source": [
    "from qiskit_experiments import ExperimentData\n",
    "\n",
    "# Construct experiment data container\n",
    "expdata_dev = ExperimentData(exp_dev)\n",
    "expdata_dev.add_data(job)\n",
    "\n",
    "# Analyze experiment data\n",
    "exp_dev.analysis().run(expdata_dev)\n",
    "\n",
    "# Get purity\n",
    "purity_exp_dev = expdata_dev.analysis_result(-1)['purity']\n",
    "print('Purity (Experiment) = {:.4f}'.format(purity_exp_dev))"
   ]
  }
 ],
 "metadata": {
  "kernelspec": {
   "display_name": "Python [conda env:qiskit]",
   "language": "python",
   "name": "conda-env-qiskit-py"
  },
  "language_info": {
   "codemirror_mode": {
    "name": "ipython",
    "version": 3
   },
   "file_extension": ".py",
   "mimetype": "text/x-python",
   "name": "python",
   "nbconvert_exporter": "python",
   "pygments_lexer": "ipython3",
   "version": "3.7.7"
  }
 },
 "nbformat": 4,
 "nbformat_minor": 4
}
